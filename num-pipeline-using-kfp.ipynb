{
 "cells": [
  {
   "cell_type": "code",
   "execution_count": 12,
   "id": "2cec0a7f",
   "metadata": {},
   "outputs": [],
   "source": [
    "from kfp import dsl,compiler\n",
    "\n",
    "@dsl.component\n",
    "def add(a: int, b: int) -> int:\n",
    "    return a + b\n",
    "@dsl.component\n",
    "def subtract(a: int, b: int) -> int:\n",
    "    return a - b\n",
    "\n",
    "@dsl.component\n",
    "def multiply(a: int, b: int) -> int:\n",
    "    return a * b"
   ]
  },
  {
   "cell_type": "code",
   "execution_count": 16,
   "id": "f377d229",
   "metadata": {},
   "outputs": [],
   "source": [
    "\n",
    "\n",
    "@dsl.pipeline()\n",
    "def my_pipeline(a: int = 1, b: int = 2, c: int = 3, d: int = 4) -> int:\n",
    "    add_task = add(a=a, b=b)\n",
    "    subtract_task = subtract(a=c, b=d)\n",
    "    multiply_task = multiply(a=add_task.output, b=subtract_task.output)\n",
    "    return multiply_task.output\n",
    "\n",
    "# Compile the pipeline outside the pipeline definition\n",
    "compiler.Compiler().compile(my_pipeline, package_path='num-pipeline.yaml')\n"
   ]
  }
 ],
 "metadata": {
  "kernelspec": {
   "display_name": "Python 3",
   "language": "python",
   "name": "python3"
  },
  "language_info": {
   "codemirror_mode": {
    "name": "ipython",
    "version": 3
   },
   "file_extension": ".py",
   "mimetype": "text/x-python",
   "name": "python",
   "nbconvert_exporter": "python",
   "pygments_lexer": "ipython3",
   "version": "3.11.9"
  }
 },
 "nbformat": 4,
 "nbformat_minor": 5
}
